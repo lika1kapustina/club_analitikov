{
 "cells": [
  {
   "cell_type": "markdown",
   "id": "cf0443d6",
   "metadata": {},
   "source": [
    "# Клуб аналитиков. Практикум по pandas"
   ]
  },
  {
   "cell_type": "markdown",
   "id": "846069c6",
   "metadata": {},
   "source": [
    "Привет, дорогие аналитики! Предлагаю вашему вниманию датасет с информацией о 1000 российских стартапов. Данные были скачаны с сайта *startup.ru*.\n",
    "\n",
    "У датасета следующая структура: \n",
    "* `short_name` - короткое имя компании\n",
    "* `full_name` - полное имя компании\n",
    "* `id_on_site` - id компании на сайте\n",
    "* `inn` - ИНН компании\n",
    "* `status` - статус компании\n",
    "* `money_support` - денежная поддержка компании от государства\n",
    "* `link` - ссылка на страницу компании\n",
    "\n",
    "> **Правила игры: у вас есть 20 минут на выполнение заданий. Тот, кто первый правильно отвечает на все вопросы – получает от меня, Лики,  вкусняшку**\n",
    "\n",
    "**Внимание! Задачи нужно выполнять последовательно**"
   ]
  },
  {
   "cell_type": "code",
   "execution_count": 10,
   "id": "8a5875a8",
   "metadata": {
    "scrolled": false
   },
   "outputs": [
    {
     "data": {
      "text/html": [
       "<div>\n",
       "<style scoped>\n",
       "    .dataframe tbody tr th:only-of-type {\n",
       "        vertical-align: middle;\n",
       "    }\n",
       "\n",
       "    .dataframe tbody tr th {\n",
       "        vertical-align: top;\n",
       "    }\n",
       "\n",
       "    .dataframe thead th {\n",
       "        text-align: right;\n",
       "    }\n",
       "</style>\n",
       "<table border=\"1\" class=\"dataframe\">\n",
       "  <thead>\n",
       "    <tr style=\"text-align: right;\">\n",
       "      <th></th>\n",
       "      <th>short_name</th>\n",
       "      <th>full_name</th>\n",
       "      <th>id_on_site</th>\n",
       "      <th>inn</th>\n",
       "      <th>status</th>\n",
       "      <th>money_support</th>\n",
       "      <th>link</th>\n",
       "    </tr>\n",
       "  </thead>\n",
       "  <tbody>\n",
       "    <tr>\n",
       "      <th>0</th>\n",
       "      <td>\"ЦАПК\"</td>\n",
       "      <td>ОБЩЕСТВО С ОГРАНИЧЕННОЙ ОТВЕТСТВЕННОСТЬЮ \"ЦАПК\"</td>\n",
       "      <td>1121382</td>\n",
       "      <td>7721284390</td>\n",
       "      <td>Действующая</td>\n",
       "      <td>33162000</td>\n",
       "      <td>https://startup-id.ru/navigator/#/orn/1121382</td>\n",
       "    </tr>\n",
       "    <tr>\n",
       "      <th>1</th>\n",
       "      <td>\"АНИЗОПРИНТ\"</td>\n",
       "      <td>ОБЩЕСТВО С ОГРАНИЧЕННОЙ ОТВЕТСТВЕННОСТЬЮ \"АНИЗ...</td>\n",
       "      <td>1121074</td>\n",
       "      <td>7723396928</td>\n",
       "      <td>Действующая</td>\n",
       "      <td>27450000</td>\n",
       "      <td>https://startup-id.ru/navigator/#/orn/1121074</td>\n",
       "    </tr>\n",
       "    <tr>\n",
       "      <th>2</th>\n",
       "      <td>\"МАРВЕЛМАЙНД2\"</td>\n",
       "      <td>ОБЩЕСТВО С ОГРАНИЧЕННОЙ ОТВЕТСТВЕННОСТЬЮ \"МАРВ...</td>\n",
       "      <td>1121562</td>\n",
       "      <td>7731323120</td>\n",
       "      <td>Действующая</td>\n",
       "      <td>6089000</td>\n",
       "      <td>https://startup-id.ru/navigator/#/orn/1121562</td>\n",
       "    </tr>\n",
       "    <tr>\n",
       "      <th>3</th>\n",
       "      <td>\"ЮНИМ\"</td>\n",
       "      <td>ОБЩЕСТВО С ОГРАНИЧЕННОЙ ОТВЕТСТВЕННОСТЬЮ \"ЮНИМ\"</td>\n",
       "      <td>1121225</td>\n",
       "      <td>7724883963</td>\n",
       "      <td>Действующая</td>\n",
       "      <td>35980000</td>\n",
       "      <td>https://startup-id.ru/navigator/#/orn/1121225</td>\n",
       "    </tr>\n",
       "    <tr>\n",
       "      <th>4</th>\n",
       "      <td>\"ТВИНС ТЕХНОЛОГИИ\"</td>\n",
       "      <td>ОБЩЕСТВО С ОГРАНИЧЕННОЙ ОТВЕТСТВЕННОСТЬЮ \"ТВИН...</td>\n",
       "      <td>1121183</td>\n",
       "      <td>6732113162</td>\n",
       "      <td>Действующая</td>\n",
       "      <td>4863000</td>\n",
       "      <td>https://startup-id.ru/navigator/#/orn/1121183</td>\n",
       "    </tr>\n",
       "    <tr>\n",
       "      <th>...</th>\n",
       "      <td>...</td>\n",
       "      <td>...</td>\n",
       "      <td>...</td>\n",
       "      <td>...</td>\n",
       "      <td>...</td>\n",
       "      <td>...</td>\n",
       "      <td>...</td>\n",
       "    </tr>\n",
       "    <tr>\n",
       "      <th>995</th>\n",
       "      <td>\"ГОРИЗОНТЫ РОСТА\"</td>\n",
       "      <td>ОБЩЕСТВО С ОГРАНИЧЕННОЙ ОТВЕТСТВЕННОСТЬЮ \"ГОРИ...</td>\n",
       "      <td>1121602</td>\n",
       "      <td>7731320560</td>\n",
       "      <td>Действующая</td>\n",
       "      <td>5896000</td>\n",
       "      <td>https://startup-id.ru/navigator/#/orn/1121602</td>\n",
       "    </tr>\n",
       "    <tr>\n",
       "      <th>996</th>\n",
       "      <td>None</td>\n",
       "      <td>None</td>\n",
       "      <td>1121598</td>\n",
       "      <td>None</td>\n",
       "      <td>None</td>\n",
       "      <td>0</td>\n",
       "      <td>https://startup-id.ru/navigator/#/orn/1121598</td>\n",
       "    </tr>\n",
       "    <tr>\n",
       "      <th>997</th>\n",
       "      <td>\"ГИБРИДРОВ\"</td>\n",
       "      <td>ОБЩЕСТВО С ОГРАНИЧЕННОЙ ОТВЕТСТВЕННОСТЬЮ \"ГИБР...</td>\n",
       "      <td>1121604</td>\n",
       "      <td>7731317581</td>\n",
       "      <td>Действующая</td>\n",
       "      <td>0</td>\n",
       "      <td>https://startup-id.ru/navigator/#/orn/1121604</td>\n",
       "    </tr>\n",
       "    <tr>\n",
       "      <th>998</th>\n",
       "      <td>\"КРОМИС\"</td>\n",
       "      <td>ОБЩЕСТВО С ОГРАНИЧЕННОЙ ОТВЕТСТВЕННОСТЬЮ \"КРОМИС\"</td>\n",
       "      <td>1121603</td>\n",
       "      <td>7731326353</td>\n",
       "      <td>Действующая</td>\n",
       "      <td>29967000</td>\n",
       "      <td>https://startup-id.ru/navigator/#/orn/1121603</td>\n",
       "    </tr>\n",
       "    <tr>\n",
       "      <th>999</th>\n",
       "      <td>\"КВАНТУМ-ЦЕНТР\"</td>\n",
       "      <td>ОБЩЕСТВО С ОГРАНИЧЕННОЙ ОТВЕТСТВЕННОСТЬЮ \"КВАН...</td>\n",
       "      <td>1121595</td>\n",
       "      <td>7731322670</td>\n",
       "      <td>Действующая</td>\n",
       "      <td>0</td>\n",
       "      <td>https://startup-id.ru/navigator/#/orn/1121595</td>\n",
       "    </tr>\n",
       "  </tbody>\n",
       "</table>\n",
       "<p>1000 rows × 7 columns</p>\n",
       "</div>"
      ],
      "text/plain": [
       "             short_name                                          full_name  \\\n",
       "0                \"ЦАПК\"    ОБЩЕСТВО С ОГРАНИЧЕННОЙ ОТВЕТСТВЕННОСТЬЮ \"ЦАПК\"   \n",
       "1          \"АНИЗОПРИНТ\"  ОБЩЕСТВО С ОГРАНИЧЕННОЙ ОТВЕТСТВЕННОСТЬЮ \"АНИЗ...   \n",
       "2        \"МАРВЕЛМАЙНД2\"  ОБЩЕСТВО С ОГРАНИЧЕННОЙ ОТВЕТСТВЕННОСТЬЮ \"МАРВ...   \n",
       "3                \"ЮНИМ\"    ОБЩЕСТВО С ОГРАНИЧЕННОЙ ОТВЕТСТВЕННОСТЬЮ \"ЮНИМ\"   \n",
       "4    \"ТВИНС ТЕХНОЛОГИИ\"  ОБЩЕСТВО С ОГРАНИЧЕННОЙ ОТВЕТСТВЕННОСТЬЮ \"ТВИН...   \n",
       "..                  ...                                                ...   \n",
       "995   \"ГОРИЗОНТЫ РОСТА\"  ОБЩЕСТВО С ОГРАНИЧЕННОЙ ОТВЕТСТВЕННОСТЬЮ \"ГОРИ...   \n",
       "996                None                                               None   \n",
       "997         \"ГИБРИДРОВ\"  ОБЩЕСТВО С ОГРАНИЧЕННОЙ ОТВЕТСТВЕННОСТЬЮ \"ГИБР...   \n",
       "998            \"КРОМИС\"  ОБЩЕСТВО С ОГРАНИЧЕННОЙ ОТВЕТСТВЕННОСТЬЮ \"КРОМИС\"   \n",
       "999     \"КВАНТУМ-ЦЕНТР\"  ОБЩЕСТВО С ОГРАНИЧЕННОЙ ОТВЕТСТВЕННОСТЬЮ \"КВАН...   \n",
       "\n",
       "     id_on_site         inn       status  money_support  \\\n",
       "0       1121382  7721284390  Действующая       33162000   \n",
       "1       1121074  7723396928  Действующая       27450000   \n",
       "2       1121562  7731323120  Действующая        6089000   \n",
       "3       1121225  7724883963  Действующая       35980000   \n",
       "4       1121183  6732113162  Действующая        4863000   \n",
       "..          ...         ...          ...            ...   \n",
       "995     1121602  7731320560  Действующая        5896000   \n",
       "996     1121598        None         None              0   \n",
       "997     1121604  7731317581  Действующая              0   \n",
       "998     1121603  7731326353  Действующая       29967000   \n",
       "999     1121595  7731322670  Действующая              0   \n",
       "\n",
       "                                              link  \n",
       "0    https://startup-id.ru/navigator/#/orn/1121382  \n",
       "1    https://startup-id.ru/navigator/#/orn/1121074  \n",
       "2    https://startup-id.ru/navigator/#/orn/1121562  \n",
       "3    https://startup-id.ru/navigator/#/orn/1121225  \n",
       "4    https://startup-id.ru/navigator/#/orn/1121183  \n",
       "..                                             ...  \n",
       "995  https://startup-id.ru/navigator/#/orn/1121602  \n",
       "996  https://startup-id.ru/navigator/#/orn/1121598  \n",
       "997  https://startup-id.ru/navigator/#/orn/1121604  \n",
       "998  https://startup-id.ru/navigator/#/orn/1121603  \n",
       "999  https://startup-id.ru/navigator/#/orn/1121595  \n",
       "\n",
       "[1000 rows x 7 columns]"
      ]
     },
     "execution_count": 10,
     "metadata": {},
     "output_type": "execute_result"
    }
   ],
   "source": [
    "import pandas as pd\n",
    "df = pd.read_csv('club_analitikov_praktikum_data.csv', index_col=0)\n",
    "df"
   ]
  },
  {
   "cell_type": "markdown",
   "id": "aae01449",
   "metadata": {},
   "source": [
    "**Задание 1: выведите размерность `df`. Поделите количество строк на количество столбцов, округлите до двух знаков после запятой, запишите в переменную `answer1`**"
   ]
  },
  {
   "cell_type": "code",
   "execution_count": null,
   "id": "de7d1949",
   "metadata": {},
   "outputs": [],
   "source": [
    "answer1 = #YOUR CODE HERE"
   ]
  },
  {
   "cell_type": "markdown",
   "id": "f4e9689c",
   "metadata": {},
   "source": [
    "**Задание 2: выведите распределение по переменной `status`. Какой процент компаний находится в процессе ликвидации? Запишите это значений в переменную `answer2`**"
   ]
  },
  {
   "cell_type": "code",
   "execution_count": 16,
   "id": "5bbc98e8",
   "metadata": {},
   "outputs": [],
   "source": [
    "#YOUR CODE HERE\n",
    "answer2 = #YOUR CODE HERE"
   ]
  },
  {
   "cell_type": "markdown",
   "id": "e1e86982",
   "metadata": {},
   "source": [
    "**Задание 3: изучите справку по методу `.dropna()` и почистите датафрейм от пустых строк с его помощью; далее - отфильтруйте датасет, избавившись от наблюдений, содержащих `None`(строка) по колонке `short_name`. Запишите размерность датасета после первого и после второго преобразования в перееменную answer3. (в виде листа).**"
   ]
  },
  {
   "cell_type": "code",
   "execution_count": 25,
   "id": "1b96250d",
   "metadata": {},
   "outputs": [],
   "source": [
    "# YOUR CODE HERE"
   ]
  },
  {
   "cell_type": "code",
   "execution_count": null,
   "id": "b4f36ec7",
   "metadata": {},
   "outputs": [],
   "source": [
    "answer3 = # YOUR CODE HERE"
   ]
  },
  {
   "cell_type": "markdown",
   "id": "3e2ccfa5",
   "metadata": {},
   "source": [
    "**Задание 4: перезапишите колонку `short_name`, избавившись от двойных кавычек. Если вы совершили какую-то ошибку, заново загрузите датасет. С помощью метода `.iloc()` обратитесь к 100 с конца по индексу наблюдению. Запишите в переменную `answer4` ее название.** "
   ]
  },
  {
   "cell_type": "code",
   "execution_count": null,
   "id": "aeeff75a",
   "metadata": {},
   "outputs": [],
   "source": [
    "# YOUR CODE HERE"
   ]
  },
  {
   "cell_type": "code",
   "execution_count": 35,
   "id": "7096ac3f",
   "metadata": {
    "scrolled": false
   },
   "outputs": [],
   "source": [
    "answer4 = #YOUR CODE HERE"
   ]
  },
  {
   "cell_type": "markdown",
   "id": "ee965842",
   "metadata": {},
   "source": [
    "**Задание 5: Рассчитайте описательные статистики для переменной `money_support`. Сохраните наблюдения-выбросы, посчитанные как плюс/минус 3 стандартных отклонения от среднего, в объект `df_outliers`. В переменную `answer5` сохраните число наблюдений в этом датасете.**"
   ]
  },
  {
   "cell_type": "code",
   "execution_count": null,
   "id": "d42189cd",
   "metadata": {},
   "outputs": [],
   "source": [
    "df_outliers = # YOUR CODE HERE"
   ]
  },
  {
   "cell_type": "code",
   "execution_count": null,
   "id": "5c22ec63",
   "metadata": {},
   "outputs": [],
   "source": [
    "answer5 = # YOUR CODE HERE"
   ]
  },
  {
   "cell_type": "markdown",
   "id": "c1bac0eb",
   "metadata": {},
   "source": [
    "**Задание 6. Обратитесь к переменной `full_name`. Выведите распределение значений для типа организации (подумайте, с помощью какого символа так можно сделать). Запишите в переменную `answer6` число уникальных значений, которое вы получили с помощью метода `.value_counts()`**\n",
    "\n",
    "*Подсказка: начало и конец выдачи должен выглядеть так, а для работы вам понадобится метод `.apply()`*"
   ]
  },
  {
   "cell_type": "code",
   "execution_count": 68,
   "id": "d26cf8b9",
   "metadata": {},
   "outputs": [
    {
     "data": {
      "text/plain": [
       "ОБЩЕСТВО С ОГРАНИЧЕННОЙ ОТВЕТСТВЕННОСТЬЮ                                         947\n",
       "АКЦИОНЕРНОЕ ОБЩЕСТВО                                                              23\n",
       "ОБЩЕСТВО С ОГРАНИЧЕННОЙ ОТВЕТСТВЕННОСТЬЮ НАУЧНО-ПРОИЗВОДСТВЕННОЕ ПРЕДПРИЯТИЕ       5\n",
       "Name: full_name, dtype: int64"
      ]
     },
     "execution_count": 68,
     "metadata": {},
     "output_type": "execute_result"
    }
   ],
   "source": [
    "# НАЧАЛО"
   ]
  },
  {
   "cell_type": "code",
   "execution_count": 69,
   "id": "361fa884",
   "metadata": {},
   "outputs": [
    {
     "data": {
      "text/plain": [
       "ОБЩЕСТВО С ОГРАНИЧЕННОЙ ОТВЕТСТВЕННОСТЬЮ ЦЕНТР ПРИКЛАДНЫХ ИССЛЕДОВАНИЙ     1\n",
       "ОБЩЕСТВО С ОГРАНИЧЕННОЙ ОТВЕТСТВЕННОСТЬЮ СЕЛЕКЦИОННАЯ КОМПАНИЯ             1\n",
       "Name: full_name, dtype: int64"
      ]
     },
     "execution_count": 69,
     "metadata": {},
     "output_type": "execute_result"
    }
   ],
   "source": [
    "# КОНЕЦ"
   ]
  },
  {
   "cell_type": "code",
   "execution_count": 73,
   "id": "c105c1c4",
   "metadata": {
    "scrolled": true
   },
   "outputs": [],
   "source": [
    "answer6 = #YOUR CODE HERE"
   ]
  },
  {
   "cell_type": "markdown",
   "id": "7ab75ce0",
   "metadata": {},
   "source": [
    "**Задание 7: Обратитесь к переменной `full_name`. Изучите справку по методу `str.startswith()` и выведите наблюдения, полное имя которых не начинается со слова \"Общество\". Выведите среднее значение переменной `money_support` для таких наблюдений и запишите его в переменную `answer7`**"
   ]
  },
  {
   "cell_type": "code",
   "execution_count": 74,
   "id": "b6bbefb3",
   "metadata": {},
   "outputs": [],
   "source": [
    "# YOUR CODE HERE"
   ]
  },
  {
   "cell_type": "code",
   "execution_count": null,
   "id": "653a11cb",
   "metadata": {},
   "outputs": [],
   "source": [
    "answer7 = # YOUR CODE HERE"
   ]
  },
  {
   "cell_type": "markdown",
   "id": "9c94e3ae",
   "metadata": {},
   "source": [
    "**Задание 8: обратившись к методу `.apply()`, выделите из переменной `df['link]` – ссылки – только части с цифрами. Создайте новую переменную `combination`, сохранив туда первую и последюю цифру численной части ссылки (предварительно превратив их в строки). В переменную `answer8` сохраните длину списка с уникальными значениями по этой переменной**"
   ]
  },
  {
   "cell_type": "code",
   "execution_count": 91,
   "id": "b474772f",
   "metadata": {},
   "outputs": [],
   "source": [
    "# YOUR CODE HERE"
   ]
  },
  {
   "cell_type": "code",
   "execution_count": null,
   "id": "e229cd7f",
   "metadata": {},
   "outputs": [],
   "source": [
    "answer8 = # YOUR CODE HERE"
   ]
  },
  {
   "cell_type": "markdown",
   "id": "8eb22cdc",
   "metadata": {},
   "source": [
    "**Задание 9: сгруппируйте данные по переменной `status`. Аггрегируйте данные по переменной `money_support` и посчитайте минимальное, максимальное и медианное значение. В `answer9` запишите название статистики и статус организаций, значение ячейки для которых принимает значение 31007000**"
   ]
  },
  {
   "cell_type": "code",
   "execution_count": null,
   "id": "c34790b9",
   "metadata": {},
   "outputs": [],
   "source": [
    "# YOUR CODE HERE"
   ]
  },
  {
   "cell_type": "code",
   "execution_count": null,
   "id": "f5490844",
   "metadata": {},
   "outputs": [],
   "source": [
    "answer9 = # YOUR CODE HERE"
   ]
  },
  {
   "cell_type": "markdown",
   "id": "6550fc5a",
   "metadata": {},
   "source": [
    "**Задание 10: выделите в переменные `active` и `inactive` действующие компании и те компании, статус которых отличается от действующего. С помощью библиотеки `matplotlib.pyplot` нарисуйте для них боксплоты по переменной `money_support`. Запишите в `answer10` максимальное отражаемое значение по оси y для боксплота по `active` и `inactive`.**\n",
    "\n",
    "*Подсказка: как график называется, так он и вызывается..*"
   ]
  },
  {
   "cell_type": "code",
   "execution_count": 106,
   "id": "20e49ce0",
   "metadata": {},
   "outputs": [],
   "source": [
    "import matplotlib.pyplot as plt"
   ]
  },
  {
   "cell_type": "code",
   "execution_count": null,
   "id": "f14a9e44",
   "metadata": {},
   "outputs": [],
   "source": [
    "# YOUR CODE HERE"
   ]
  },
  {
   "cell_type": "code",
   "execution_count": null,
   "id": "7a37de91",
   "metadata": {},
   "outputs": [],
   "source": [
    "# YOUR CODE HERE"
   ]
  },
  {
   "cell_type": "code",
   "execution_count": null,
   "id": "199c7aa7",
   "metadata": {},
   "outputs": [],
   "source": [
    "answer10 = # YOUR CODE HERE"
   ]
  }
 ],
 "metadata": {
  "kernelspec": {
   "display_name": "Python 3",
   "language": "python",
   "name": "python3"
  },
  "language_info": {
   "codemirror_mode": {
    "name": "ipython",
    "version": 3
   },
   "file_extension": ".py",
   "mimetype": "text/x-python",
   "name": "python",
   "nbconvert_exporter": "python",
   "pygments_lexer": "ipython3",
   "version": "3.8.8"
  }
 },
 "nbformat": 4,
 "nbformat_minor": 5
}
